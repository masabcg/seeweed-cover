{
 "cells": [
  {
   "cell_type": "code",
   "execution_count": 1,
   "id": "8ddc0b33-9e9a-4416-8809-5db4251322d5",
   "metadata": {},
   "outputs": [],
   "source": [
    "import os\n",
    "os.chdir('/pc_win_loss')"
   ]
  },
  {
   "cell_type": "code",
   "execution_count": 2,
   "id": "3ffc1764-b708-4ec0-b4a2-f37a3a703cd3",
   "metadata": {},
   "outputs": [],
   "source": [
    "import warnings\n",
    "\n",
    "import numpy as np\n",
    "import pandas as pd\n",
    "import matplotlib.pyplot as plt\n",
    "import seaborn as sns\n",
    "\n",
    "from sklearn.metrics import accuracy_score\n",
    "from sklearn.metrics import confusion_matrix\n",
    "from sklearn.model_selection import train_test_split\n",
    "import lightgbm as lgb\n",
    "\n",
    "from functions.visualizer import *\n",
    "from src.config import *"
   ]
  },
  {
   "cell_type": "markdown",
   "id": "b82ea130-19bc-4653-b28d-b1b35bbc9c72",
   "metadata": {},
   "source": [
    "## データ取り込み"
   ]
  },
  {
   "cell_type": "code",
   "execution_count": 3,
   "id": "416c748b-c7fe-4aef-9aeb-a4a7e8c61448",
   "metadata": {},
   "outputs": [
    {
     "data": {
      "text/html": [
       "<div>\n",
       "<style scoped>\n",
       "    .dataframe tbody tr th:only-of-type {\n",
       "        vertical-align: middle;\n",
       "    }\n",
       "\n",
       "    .dataframe tbody tr th {\n",
       "        vertical-align: top;\n",
       "    }\n",
       "\n",
       "    .dataframe thead th {\n",
       "        text-align: right;\n",
       "    }\n",
       "</style>\n",
       "<table border=\"1\" class=\"dataframe\">\n",
       "  <thead>\n",
       "    <tr style=\"text-align: right;\">\n",
       "      <th></th>\n",
       "      <th>gameId</th>\n",
       "      <th>blueFirstBlood</th>\n",
       "      <th>blueKills</th>\n",
       "      <th>blueDeaths</th>\n",
       "      <th>blueAssists</th>\n",
       "      <th>blueEliteMonsters</th>\n",
       "      <th>blueDragons</th>\n",
       "      <th>blueTotalGold</th>\n",
       "      <th>blueTotalExperience</th>\n",
       "      <th>blueWins</th>\n",
       "    </tr>\n",
       "  </thead>\n",
       "  <tbody>\n",
       "    <tr>\n",
       "      <th>0</th>\n",
       "      <td>0</td>\n",
       "      <td>0</td>\n",
       "      <td>5</td>\n",
       "      <td>8</td>\n",
       "      <td>6</td>\n",
       "      <td>0</td>\n",
       "      <td>0</td>\n",
       "      <td>14536</td>\n",
       "      <td>17256</td>\n",
       "      <td>0</td>\n",
       "    </tr>\n",
       "    <tr>\n",
       "      <th>1</th>\n",
       "      <td>1</td>\n",
       "      <td>1</td>\n",
       "      <td>10</td>\n",
       "      <td>1</td>\n",
       "      <td>5</td>\n",
       "      <td>0</td>\n",
       "      <td>0</td>\n",
       "      <td>14536</td>\n",
       "      <td>17863</td>\n",
       "      <td>0</td>\n",
       "    </tr>\n",
       "    <tr>\n",
       "      <th>2</th>\n",
       "      <td>2</td>\n",
       "      <td>0</td>\n",
       "      <td>3</td>\n",
       "      <td>10</td>\n",
       "      <td>2</td>\n",
       "      <td>0</td>\n",
       "      <td>0</td>\n",
       "      <td>17409</td>\n",
       "      <td>17256</td>\n",
       "      <td>0</td>\n",
       "    </tr>\n",
       "    <tr>\n",
       "      <th>3</th>\n",
       "      <td>3</td>\n",
       "      <td>1</td>\n",
       "      <td>7</td>\n",
       "      <td>10</td>\n",
       "      <td>8</td>\n",
       "      <td>0</td>\n",
       "      <td>0</td>\n",
       "      <td>19558</td>\n",
       "      <td>18201</td>\n",
       "      <td>0</td>\n",
       "    </tr>\n",
       "    <tr>\n",
       "      <th>4</th>\n",
       "      <td>4</td>\n",
       "      <td>0</td>\n",
       "      <td>4</td>\n",
       "      <td>9</td>\n",
       "      <td>4</td>\n",
       "      <td>0</td>\n",
       "      <td>0</td>\n",
       "      <td>17409</td>\n",
       "      <td>17256</td>\n",
       "      <td>0</td>\n",
       "    </tr>\n",
       "  </tbody>\n",
       "</table>\n",
       "</div>"
      ],
      "text/plain": [
       "   gameId  blueFirstBlood  blueKills  blueDeaths  blueAssists  \\\n",
       "0       0               0          5           8            6   \n",
       "1       1               1         10           1            5   \n",
       "2       2               0          3          10            2   \n",
       "3       3               1          7          10            8   \n",
       "4       4               0          4           9            4   \n",
       "\n",
       "   blueEliteMonsters  blueDragons  blueTotalGold  blueTotalExperience  \\\n",
       "0                  0            0          14536                17256   \n",
       "1                  0            0          14536                17863   \n",
       "2                  0            0          17409                17256   \n",
       "3                  0            0          19558                18201   \n",
       "4                  0            0          17409                17256   \n",
       "\n",
       "   blueWins  \n",
       "0         0  \n",
       "1         0  \n",
       "2         0  \n",
       "3         0  \n",
       "4         0  "
      ]
     },
     "execution_count": 3,
     "metadata": {},
     "output_type": "execute_result"
    }
   ],
   "source": [
    "df = pd.read_csv('input/train.csv')\n",
    "df_test = pd.read_csv('input/test.csv')\n",
    "df.head()"
   ]
  },
  {
   "cell_type": "markdown",
   "id": "d0841c55-1860-47f4-b79e-2fd59e411a08",
   "metadata": {},
   "source": [
    "## 特徴量エンジニアリング"
   ]
  },
  {
   "cell_type": "code",
   "execution_count": 4,
   "id": "c8196522-55f5-4e31-a215-20759dfa5034",
   "metadata": {},
   "outputs": [
    {
     "data": {
      "text/html": [
       "<div>\n",
       "<style scoped>\n",
       "    .dataframe tbody tr th:only-of-type {\n",
       "        vertical-align: middle;\n",
       "    }\n",
       "\n",
       "    .dataframe tbody tr th {\n",
       "        vertical-align: top;\n",
       "    }\n",
       "\n",
       "    .dataframe thead th {\n",
       "        text-align: right;\n",
       "    }\n",
       "</style>\n",
       "<table border=\"1\" class=\"dataframe\">\n",
       "  <thead>\n",
       "    <tr style=\"text-align: right;\">\n",
       "      <th></th>\n",
       "      <th>blueFirstBlood</th>\n",
       "      <th>blueKills</th>\n",
       "      <th>blueDeaths</th>\n",
       "      <th>blueAssists</th>\n",
       "      <th>blueEliteMonsters</th>\n",
       "      <th>blueDragons</th>\n",
       "      <th>blueTotalGold</th>\n",
       "      <th>blueTotalExperience</th>\n",
       "      <th>blueWins</th>\n",
       "    </tr>\n",
       "  </thead>\n",
       "  <tbody>\n",
       "    <tr>\n",
       "      <th>0</th>\n",
       "      <td>0</td>\n",
       "      <td>5</td>\n",
       "      <td>8</td>\n",
       "      <td>6</td>\n",
       "      <td>0</td>\n",
       "      <td>0</td>\n",
       "      <td>14536</td>\n",
       "      <td>17256</td>\n",
       "      <td>0</td>\n",
       "    </tr>\n",
       "    <tr>\n",
       "      <th>1</th>\n",
       "      <td>1</td>\n",
       "      <td>10</td>\n",
       "      <td>1</td>\n",
       "      <td>5</td>\n",
       "      <td>0</td>\n",
       "      <td>0</td>\n",
       "      <td>14536</td>\n",
       "      <td>17863</td>\n",
       "      <td>0</td>\n",
       "    </tr>\n",
       "    <tr>\n",
       "      <th>2</th>\n",
       "      <td>0</td>\n",
       "      <td>3</td>\n",
       "      <td>10</td>\n",
       "      <td>2</td>\n",
       "      <td>0</td>\n",
       "      <td>0</td>\n",
       "      <td>17409</td>\n",
       "      <td>17256</td>\n",
       "      <td>0</td>\n",
       "    </tr>\n",
       "    <tr>\n",
       "      <th>3</th>\n",
       "      <td>1</td>\n",
       "      <td>7</td>\n",
       "      <td>10</td>\n",
       "      <td>8</td>\n",
       "      <td>0</td>\n",
       "      <td>0</td>\n",
       "      <td>19558</td>\n",
       "      <td>18201</td>\n",
       "      <td>0</td>\n",
       "    </tr>\n",
       "    <tr>\n",
       "      <th>4</th>\n",
       "      <td>0</td>\n",
       "      <td>4</td>\n",
       "      <td>9</td>\n",
       "      <td>4</td>\n",
       "      <td>0</td>\n",
       "      <td>0</td>\n",
       "      <td>17409</td>\n",
       "      <td>17256</td>\n",
       "      <td>0</td>\n",
       "    </tr>\n",
       "  </tbody>\n",
       "</table>\n",
       "</div>"
      ],
      "text/plain": [
       "   blueFirstBlood  blueKills  blueDeaths  blueAssists  blueEliteMonsters  \\\n",
       "0               0          5           8            6                  0   \n",
       "1               1         10           1            5                  0   \n",
       "2               0          3          10            2                  0   \n",
       "3               1          7          10            8                  0   \n",
       "4               0          4           9            4                  0   \n",
       "\n",
       "   blueDragons  blueTotalGold  blueTotalExperience  blueWins  \n",
       "0            0          14536                17256         0  \n",
       "1            0          14536                17863         0  \n",
       "2            0          17409                17256         0  \n",
       "3            0          19558                18201         0  \n",
       "4            0          17409                17256         0  "
      ]
     },
     "execution_count": 4,
     "metadata": {},
     "output_type": "execute_result"
    }
   ],
   "source": [
    "df_prep = df.drop(COL_ID, axis=1)\n",
    "# df_prep['blueHerald'] = df_prep[COL_ELITEMONSTERS] - df_prep[COL_DRAGONS]\n",
    "# df_prep = df_prep.drop([COL_FIRSTBLOOD, COL_ELITEMONSTERS, COL_DRAGONS], axis=1)\n",
    "\n",
    "df_prep.head()"
   ]
  },
  {
   "cell_type": "markdown",
   "id": "d9301817-2389-45d5-9176-b2b5586fc3d3",
   "metadata": {},
   "source": [
    "## モデル構築"
   ]
  },
  {
   "cell_type": "code",
   "execution_count": 5,
   "id": "a9d799d2-c7ee-45d8-8eed-eac739f6e1b2",
   "metadata": {},
   "outputs": [],
   "source": [
    "random_state = 0"
   ]
  },
  {
   "cell_type": "code",
   "execution_count": 6,
   "id": "e7fab99f-f06b-47b9-acb3-eba258acd84d",
   "metadata": {},
   "outputs": [
    {
     "name": "stdout",
     "output_type": "stream",
     "text": [
      "6400\n",
      "1600\n"
     ]
    }
   ],
   "source": [
    "# 20%の被験者を選ぶ\n",
    "df_train, df_val = train_test_split(df_prep, test_size=0.2, random_state=random_state)\n",
    "\n",
    "print(len(df_train))\n",
    "print(len(df_val))"
   ]
  },
  {
   "cell_type": "markdown",
   "id": "c5662ceb-5fb5-464e-b2ca-de0652436d88",
   "metadata": {},
   "source": [
    "### LightGBM実装"
   ]
  },
  {
   "cell_type": "code",
   "execution_count": 7,
   "id": "e36bcf6d-42ed-4dc6-b814-34ea329dbb7c",
   "metadata": {},
   "outputs": [],
   "source": [
    "feature_cols = list(df_train.drop(COL_BLUEWINS, axis=1).columns)\n",
    "\n",
    "train_x = df_train.drop(COL_BLUEWINS, axis=1)\n",
    "train_y = df_train[COL_BLUEWINS]\n",
    "\n",
    "val_x = df_val.drop(COL_BLUEWINS, axis=1)\n",
    "val_y = df_val[COL_BLUEWINS]"
   ]
  },
  {
   "cell_type": "code",
   "execution_count": 8,
   "id": "d830aa09-d1a2-4bf0-8988-7d9a426123b1",
   "metadata": {},
   "outputs": [
    {
     "data": {
      "text/html": [
       "<div>\n",
       "<style scoped>\n",
       "    .dataframe tbody tr th:only-of-type {\n",
       "        vertical-align: middle;\n",
       "    }\n",
       "\n",
       "    .dataframe tbody tr th {\n",
       "        vertical-align: top;\n",
       "    }\n",
       "\n",
       "    .dataframe thead th {\n",
       "        text-align: right;\n",
       "    }\n",
       "</style>\n",
       "<table border=\"1\" class=\"dataframe\">\n",
       "  <thead>\n",
       "    <tr style=\"text-align: right;\">\n",
       "      <th></th>\n",
       "      <th>blueFirstBlood</th>\n",
       "      <th>blueKills</th>\n",
       "      <th>blueDeaths</th>\n",
       "      <th>blueAssists</th>\n",
       "      <th>blueEliteMonsters</th>\n",
       "      <th>blueDragons</th>\n",
       "      <th>blueTotalGold</th>\n",
       "      <th>blueTotalExperience</th>\n",
       "    </tr>\n",
       "  </thead>\n",
       "  <tbody>\n",
       "    <tr>\n",
       "      <th>1001</th>\n",
       "      <td>1</td>\n",
       "      <td>11</td>\n",
       "      <td>3</td>\n",
       "      <td>8</td>\n",
       "      <td>1</td>\n",
       "      <td>1</td>\n",
       "      <td>18274</td>\n",
       "      <td>18472</td>\n",
       "    </tr>\n",
       "    <tr>\n",
       "      <th>7360</th>\n",
       "      <td>0</td>\n",
       "      <td>6</td>\n",
       "      <td>11</td>\n",
       "      <td>7</td>\n",
       "      <td>0</td>\n",
       "      <td>0</td>\n",
       "      <td>20619</td>\n",
       "      <td>17256</td>\n",
       "    </tr>\n",
       "    <tr>\n",
       "      <th>5234</th>\n",
       "      <td>1</td>\n",
       "      <td>6</td>\n",
       "      <td>3</td>\n",
       "      <td>5</td>\n",
       "      <td>1</td>\n",
       "      <td>0</td>\n",
       "      <td>16961</td>\n",
       "      <td>18201</td>\n",
       "    </tr>\n",
       "    <tr>\n",
       "      <th>7390</th>\n",
       "      <td>0</td>\n",
       "      <td>9</td>\n",
       "      <td>5</td>\n",
       "      <td>8</td>\n",
       "      <td>0</td>\n",
       "      <td>0</td>\n",
       "      <td>18117</td>\n",
       "      <td>18472</td>\n",
       "    </tr>\n",
       "    <tr>\n",
       "      <th>6841</th>\n",
       "      <td>1</td>\n",
       "      <td>9</td>\n",
       "      <td>4</td>\n",
       "      <td>9</td>\n",
       "      <td>0</td>\n",
       "      <td>0</td>\n",
       "      <td>14536</td>\n",
       "      <td>17256</td>\n",
       "    </tr>\n",
       "  </tbody>\n",
       "</table>\n",
       "</div>"
      ],
      "text/plain": [
       "      blueFirstBlood  blueKills  blueDeaths  blueAssists  blueEliteMonsters  \\\n",
       "1001               1         11           3            8                  1   \n",
       "7360               0          6          11            7                  0   \n",
       "5234               1          6           3            5                  1   \n",
       "7390               0          9           5            8                  0   \n",
       "6841               1          9           4            9                  0   \n",
       "\n",
       "      blueDragons  blueTotalGold  blueTotalExperience  \n",
       "1001            1          18274                18472  \n",
       "7360            0          20619                17256  \n",
       "5234            0          16961                18201  \n",
       "7390            0          18117                18472  \n",
       "6841            0          14536                17256  "
      ]
     },
     "execution_count": 8,
     "metadata": {},
     "output_type": "execute_result"
    }
   ],
   "source": [
    "train_x.head()"
   ]
  },
  {
   "cell_type": "code",
   "execution_count": 9,
   "id": "2e299123-3ebc-42be-8bc6-2493972b80a0",
   "metadata": {},
   "outputs": [
    {
     "data": {
      "text/plain": [
       "LGBMClassifier(random_state=0)"
      ]
     },
     "execution_count": 9,
     "metadata": {},
     "output_type": "execute_result"
    }
   ],
   "source": [
    "model = lgb.LGBMClassifier(random_state=random_state)\n",
    "model.fit(train_x, train_y)"
   ]
  },
  {
   "cell_type": "code",
   "execution_count": 10,
   "id": "19c264e7-9459-458c-8b96-73290486da8e",
   "metadata": {},
   "outputs": [
    {
     "name": "stdout",
     "output_type": "stream",
     "text": [
      "accuracy score: 0.8069\n"
     ]
    }
   ],
   "source": [
    "# 検証データを用いて予測\n",
    "pred_y = model.predict(val_x)\n",
    "\n",
    "accuracy = accuracy_score(pred_y, val_y)\n",
    "print(f\"accuracy score: {accuracy:0.4f}\")"
   ]
  },
  {
   "cell_type": "code",
   "execution_count": 11,
   "id": "724ac63b-8e41-4bc2-80d5-1a4c9968485c",
   "metadata": {},
   "outputs": [
    {
     "data": {
      "image/png": "[encoded data removed]",
      "text/plain": [
       "<Figure size 640x480 with 2 Axes>"
      ]
     },
     "metadata": {},
     "output_type": "display_data"
    }
   ],
   "source": [
    "cm = confusion_matrix(val_y, pred_y)\n",
    "cm_matrix = pd.DataFrame(data=cm, columns=['Actual Positive:1', 'Actual Negative:0'], \n",
    "                                 index=['Predict Positive:1', 'Predict Negative:0'])\n",
    "\n",
    "sns.heatmap(cm_matrix, annot=True, fmt='d', cmap='YlGnBu')\n",
    "\n",
    "plt.show()"
   ]
  },
  {
   "cell_type": "markdown",
   "id": "32470283-77df-44e2-8b59-d1f6b83eefa0",
   "metadata": {},
   "source": [
    "### 変数重要度の確認"
   ]
  },
  {
   "cell_type": "code",
   "execution_count": 12,
   "id": "8d72ff03-ebb6-4afc-94b8-5a36897734f9",
   "metadata": {},
   "outputs": [
    {
     "data": {
      "text/html": [
       "<div>\n",
       "<style scoped>\n",
       "    .dataframe tbody tr th:only-of-type {\n",
       "        vertical-align: middle;\n",
       "    }\n",
       "\n",
       "    .dataframe tbody tr th {\n",
       "        vertical-align: top;\n",
       "    }\n",
       "\n",
       "    .dataframe thead th {\n",
       "        text-align: right;\n",
       "    }\n",
       "</style>\n",
       "<table border=\"1\" class=\"dataframe\">\n",
       "  <thead>\n",
       "    <tr style=\"text-align: right;\">\n",
       "      <th></th>\n",
       "      <th>importance</th>\n",
       "    </tr>\n",
       "  </thead>\n",
       "  <tbody>\n",
       "    <tr>\n",
       "      <th>blueFirstBlood</th>\n",
       "      <td>0.040333</td>\n",
       "    </tr>\n",
       "    <tr>\n",
       "      <th>blueKills</th>\n",
       "      <td>0.160667</td>\n",
       "    </tr>\n",
       "    <tr>\n",
       "      <th>blueDeaths</th>\n",
       "      <td>0.180333</td>\n",
       "    </tr>\n",
       "    <tr>\n",
       "      <th>blueAssists</th>\n",
       "      <td>0.172667</td>\n",
       "    </tr>\n",
       "    <tr>\n",
       "      <th>blueEliteMonsters</th>\n",
       "      <td>0.060333</td>\n",
       "    </tr>\n",
       "    <tr>\n",
       "      <th>blueDragons</th>\n",
       "      <td>0.035333</td>\n",
       "    </tr>\n",
       "    <tr>\n",
       "      <th>blueTotalGold</th>\n",
       "      <td>0.200000</td>\n",
       "    </tr>\n",
       "    <tr>\n",
       "      <th>blueTotalExperience</th>\n",
       "      <td>0.150333</td>\n",
       "    </tr>\n",
       "  </tbody>\n",
       "</table>\n",
       "</div>"
      ],
      "text/plain": [
       "                     importance\n",
       "blueFirstBlood         0.040333\n",
       "blueKills              0.160667\n",
       "blueDeaths             0.180333\n",
       "blueAssists            0.172667\n",
       "blueEliteMonsters      0.060333\n",
       "blueDragons            0.035333\n",
       "blueTotalGold          0.200000\n",
       "blueTotalExperience    0.150333"
      ]
     },
     "metadata": {},
     "output_type": "display_data"
    }
   ],
   "source": [
    "df_importance = pd.DataFrame(model.feature_importances_, index=feature_cols, columns=['importance'])\n",
    "df_importance['importance'] = df_importance['importance'] / sum(df_importance['importance'])\n",
    "display(df_importance)"
   ]
  },
  {
   "cell_type": "code",
   "execution_count": 13,
   "id": "b31c4f78-2fc6-4bff-b069-a039a9b82f92",
   "metadata": {},
   "outputs": [],
   "source": [
    "# 特徴量重要度を棒グラフでプロットする関数 \n",
    "def plot_feature_importance(df): \n",
    "    n_features = len(df)                              # 特徴量数(説明変数の個数) \n",
    "    df_plot = df.sort_values('importance')            # df_importanceをプロット用に特徴量重要度を昇順ソート \n",
    "    f_importance_plot = df_plot['importance'].values  # 特徴量重要度の取得 \n",
    "    plt.barh(range(n_features), f_importance_plot, align='center') \n",
    "    cols_plot = df_plot.index                         # 特徴量のカラム名を取得\n",
    "    plt.yticks(np.arange(n_features), cols_plot)      # x軸,y軸の値の設定\n",
    "    plt.xlabel('Feature importance')                  # x軸のタイトル\n",
    "    plt.ylabel('Feature')                             # y軸のタイトル"
   ]
  },
  {
   "cell_type": "code",
   "execution_count": 14,
   "id": "91863478-4b46-4b8a-a908-3ca280330b9c",
   "metadata": {},
   "outputs": [
    {
     "data": {
      "image/png": "[encoded data removed]",
      "text/plain": [
       "<Figure size 640x480 with 1 Axes>"
      ]
     },
     "metadata": {},
     "output_type": "display_data"
    }
   ],
   "source": [
    "plot_feature_importance(df_importance)"
   ]
  },
  {
   "cell_type": "code",
   "execution_count": 15,
   "id": "9f113378-546c-46f5-a927-3dd64a44f1a8",
   "metadata": {},
   "outputs": [],
   "source": [
    "# 前処理後のデータフレームをpickle形式で保存\n",
    "path = 'output/df_prep.pkl'\n",
    "pd.to_pickle(df_prep, path)"
   ]
  },
  {
   "cell_type": "code",
   "execution_count": 16,
   "id": "ad93f6b6-83e0-44e4-b16c-a0f1dc65b7bb",
   "metadata": {},
   "outputs": [],
   "source": [
    "# # 確認用\n",
    "# df_prep = pd.read_pickle(path)\n",
    "# df_prep.head()"
   ]
  },
  {
   "cell_type": "code",
   "execution_count": null,
   "id": "e9a93310-28e4-4a35-9312-ddf4ac104ca5",
   "metadata": {},
   "outputs": [],
   "source": []
  }
 ],
 "metadata": {
  "kernelspec": {
   "display_name": "Python 3 (ipykernel)",
   "language": "python",
   "name": "python3"
  },
  "language_info": {
   "codemirror_mode": {
    "name": "ipython",
    "version": 3
   },
   "file_extension": ".py",
   "mimetype": "text/x-python",
   "name": "python",
   "nbconvert_exporter": "python",
   "pygments_lexer": "ipython3",
   "version": "3.9.13"
  }
 },
 "nbformat": 4,
 "nbformat_minor": 5
}

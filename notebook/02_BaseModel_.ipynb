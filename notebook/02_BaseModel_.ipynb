{
 "cells": [
  {
   "cell_type": "code",
   "execution_count": 1,
   "id": "fa5db259-d4fa-45bb-bd5a-b7fd235dc167",
   "metadata": {},
   "outputs": [],
   "source": [
    "import os\n",
    "os.chdir('/pc_win_loss')"
   ]
  },
  {
   "cell_type": "code",
   "execution_count": 2,
   "id": "fcf62cab-7633-43a6-b7ca-fe82ea57a897",
   "metadata": {},
   "outputs": [],
   "source": [
    "import warnings\n",
    "\n",
    "import numpy as np\n",
    "import pandas as pd\n",
    "import matplotlib.pyplot as plt\n",
    "import seaborn as sns\n",
    "\n",
    "from sklearn.metrics import accuracy_score\n",
    "from sklearn.metrics import confusion_matrix\n",
    "from sklearn.model_selection import train_test_split\n",
    "import lightgbm as lgb\n",
    "\n",
    "from functions.visualizer import *\n",
    "from src.config import *"
   ]
  },
  {
   "cell_type": "markdown",
   "id": "fddd4b62-5c70-48d7-85e7-c1be33a1949e",
   "metadata": {},
   "source": [
    "## データ取り込み"
   ]
  },
  {
   "cell_type": "code",
   "execution_count": 3,
   "id": "850706a8-cf11-414a-b3c8-b411d2e9fd63",
   "metadata": {},
   "outputs": [
    {
     "data": {
      "text/html": [
       "<div>\n",
       "<style scoped>\n",
       "    .dataframe tbody tr th:only-of-type {\n",
       "        vertical-align: middle;\n",
       "    }\n",
       "\n",
       "    .dataframe tbody tr th {\n",
       "        vertical-align: top;\n",
       "    }\n",
       "\n",
       "    .dataframe thead th {\n",
       "        text-align: right;\n",
       "    }\n",
       "</style>\n",
       "<table border=\"1\" class=\"dataframe\">\n",
       "  <thead>\n",
       "    <tr style=\"text-align: right;\">\n",
       "      <th></th>\n",
       "      <th>gameId</th>\n",
       "      <th>blueFirstBlood</th>\n",
       "      <th>blueKills</th>\n",
       "      <th>blueDeaths</th>\n",
       "      <th>blueAssists</th>\n",
       "      <th>blueEliteMonsters</th>\n",
       "      <th>blueDragons</th>\n",
       "      <th>blueTotalGold</th>\n",
       "      <th>blueTotalExperience</th>\n",
       "      <th>blueWins</th>\n",
       "    </tr>\n",
       "  </thead>\n",
       "  <tbody>\n",
       "    <tr>\n",
       "      <th>0</th>\n",
       "      <td>0</td>\n",
       "      <td>0</td>\n",
       "      <td>5</td>\n",
       "      <td>8</td>\n",
       "      <td>6</td>\n",
       "      <td>0</td>\n",
       "      <td>0</td>\n",
       "      <td>14536</td>\n",
       "      <td>17256</td>\n",
       "      <td>0</td>\n",
       "    </tr>\n",
       "    <tr>\n",
       "      <th>1</th>\n",
       "      <td>1</td>\n",
       "      <td>1</td>\n",
       "      <td>10</td>\n",
       "      <td>1</td>\n",
       "      <td>5</td>\n",
       "      <td>0</td>\n",
       "      <td>0</td>\n",
       "      <td>14536</td>\n",
       "      <td>17863</td>\n",
       "      <td>0</td>\n",
       "    </tr>\n",
       "    <tr>\n",
       "      <th>2</th>\n",
       "      <td>2</td>\n",
       "      <td>0</td>\n",
       "      <td>3</td>\n",
       "      <td>10</td>\n",
       "      <td>2</td>\n",
       "      <td>0</td>\n",
       "      <td>0</td>\n",
       "      <td>17409</td>\n",
       "      <td>17256</td>\n",
       "      <td>0</td>\n",
       "    </tr>\n",
       "    <tr>\n",
       "      <th>3</th>\n",
       "      <td>3</td>\n",
       "      <td>1</td>\n",
       "      <td>7</td>\n",
       "      <td>10</td>\n",
       "      <td>8</td>\n",
       "      <td>0</td>\n",
       "      <td>0</td>\n",
       "      <td>19558</td>\n",
       "      <td>18201</td>\n",
       "      <td>0</td>\n",
       "    </tr>\n",
       "    <tr>\n",
       "      <th>4</th>\n",
       "      <td>4</td>\n",
       "      <td>0</td>\n",
       "      <td>4</td>\n",
       "      <td>9</td>\n",
       "      <td>4</td>\n",
       "      <td>0</td>\n",
       "      <td>0</td>\n",
       "      <td>17409</td>\n",
       "      <td>17256</td>\n",
       "      <td>0</td>\n",
       "    </tr>\n",
       "  </tbody>\n",
       "</table>\n",
       "</div>"
      ],
      "text/plain": [
       "   gameId  blueFirstBlood  blueKills  blueDeaths  blueAssists  \\\n",
       "0       0               0          5           8            6   \n",
       "1       1               1         10           1            5   \n",
       "2       2               0          3          10            2   \n",
       "3       3               1          7          10            8   \n",
       "4       4               0          4           9            4   \n",
       "\n",
       "   blueEliteMonsters  blueDragons  blueTotalGold  blueTotalExperience  \\\n",
       "0                  0            0          14536                17256   \n",
       "1                  0            0          14536                17863   \n",
       "2                  0            0          17409                17256   \n",
       "3                  0            0          19558                18201   \n",
       "4                  0            0          17409                17256   \n",
       "\n",
       "   blueWins  \n",
       "0         0  \n",
       "1         0  \n",
       "2         0  \n",
       "3         0  \n",
       "4         0  "
      ]
     },
     "execution_count": 3,
     "metadata": {},
     "output_type": "execute_result"
    }
   ],
   "source": [
    "df = pd.read_csv('input/train.csv')\n",
    "df_test = pd.read_csv('input/test.csv')\n",
    "df.head()"
   ]
  },
  {
   "cell_type": "markdown",
   "id": "d8497166-58da-4486-8ab1-bb9622051853",
   "metadata": {},
   "source": [
    "## ベースモデル構築"
   ]
  },
  {
   "cell_type": "code",
   "execution_count": 4,
   "id": "40d9d3e5-cd15-421c-ac18-b3c20b518c98",
   "metadata": {},
   "outputs": [
    {
     "name": "stdout",
     "output_type": "stream",
     "text": [
      "6400\n",
      "1600\n"
     ]
    }
   ],
   "source": [
    "# 20%の被験者を選ぶ\n",
    "df_train, df_val = train_test_split(df, test_size=0.2)\n",
    "\n",
    "print(len(df_train))\n",
    "print(len(df_val))"
   ]
  },
  {
   "cell_type": "markdown",
   "id": "1ea9d6bd-4a19-4373-9374-d3245bd0a62e",
   "metadata": {},
   "source": [
    "### LightGBM実装"
   ]
  },
  {
   "cell_type": "code",
   "execution_count": 5,
   "id": "fcc6f91b-8537-40db-8571-08931874782e",
   "metadata": {},
   "outputs": [],
   "source": [
    "feature_cols = list(df.iloc[:, :-1].columns)\n",
    "\n",
    "train_x = df_train.iloc[:, :-1]\n",
    "train_y = df_train[COL_BLUEWINS]\n",
    "\n",
    "val_x = df_val.iloc[:, :-1]\n",
    "val_y = df_val[COL_BLUEWINS]"
   ]
  },
  {
   "cell_type": "code",
   "execution_count": 6,
   "id": "17e8a067-3a24-4aff-a54e-c9919c1b1b15",
   "metadata": {},
   "outputs": [
    {
     "data": {
      "text/plain": [
       "LGBMClassifier()"
      ]
     },
     "execution_count": 6,
     "metadata": {},
     "output_type": "execute_result"
    }
   ],
   "source": [
    "model = lgb.LGBMClassifier()\n",
    "model.fit(train_x, train_y)"
   ]
  },
  {
   "cell_type": "code",
   "execution_count": 7,
   "id": "7f35fede-b151-45e0-8f60-7e82dbc2865a",
   "metadata": {},
   "outputs": [
    {
     "name": "stdout",
     "output_type": "stream",
     "text": [
      "accuracy score: 0.7906\n"
     ]
    }
   ],
   "source": [
    "# 検証データを用いて予測\n",
    "pred_y = model.predict(val_x)\n",
    "\n",
    "accuracy = accuracy_score(pred_y, val_y)\n",
    "print(f\"accuracy score: {accuracy:0.4f}\")"
   ]
  },
  {
   "cell_type": "markdown",
   "id": "1afbd0ff-5958-493f-a177-8db3a6376930",
   "metadata": {},
   "source": [
    "ベースモデルの精度は8割弱"
   ]
  },
  {
   "cell_type": "code",
   "execution_count": 8,
   "id": "0cb5e61d-a36e-48d5-887c-4a800c8ac30f",
   "metadata": {},
   "outputs": [
    {
     "data": {
      "text/plain": [
       "<AxesSubplot:>"
      ]
     },
     "execution_count": 8,
     "metadata": {},
     "output_type": "execute_result"
    },
    {
     "data": {
      "image/png": "[encoded data removed]",
      "text/plain": [
       "<Figure size 640x480 with 2 Axes>"
      ]
     },
     "metadata": {},
     "output_type": "display_data"
    }
   ],
   "source": [
    "cm = confusion_matrix(val_y, pred_y)\n",
    "cm_matrix = pd.DataFrame(data=cm, columns=['Actual Positive:1', 'Actual Negative:0'], \n",
    "                                 index=['Predict Positive:1', 'Predict Negative:0'])\n",
    "\n",
    "sns.heatmap(cm_matrix, annot=True, fmt='d', cmap='YlGnBu')"
   ]
  },
  {
   "cell_type": "markdown",
   "id": "975a534e-9215-4dd8-9bd7-4a341a73b4ae",
   "metadata": {},
   "source": [
    "### 変数重要度の確認"
   ]
  },
  {
   "cell_type": "code",
   "execution_count": 9,
   "id": "4b595e54-c988-42a6-a691-dd8877491c02",
   "metadata": {},
   "outputs": [
    {
     "data": {
      "text/html": [
       "<div>\n",
       "<style scoped>\n",
       "    .dataframe tbody tr th:only-of-type {\n",
       "        vertical-align: middle;\n",
       "    }\n",
       "\n",
       "    .dataframe tbody tr th {\n",
       "        vertical-align: top;\n",
       "    }\n",
       "\n",
       "    .dataframe thead th {\n",
       "        text-align: right;\n",
       "    }\n",
       "</style>\n",
       "<table border=\"1\" class=\"dataframe\">\n",
       "  <thead>\n",
       "    <tr style=\"text-align: right;\">\n",
       "      <th></th>\n",
       "      <th>importance</th>\n",
       "    </tr>\n",
       "  </thead>\n",
       "  <tbody>\n",
       "    <tr>\n",
       "      <th>gameId</th>\n",
       "      <td>0.294667</td>\n",
       "    </tr>\n",
       "    <tr>\n",
       "      <th>blueFirstBlood</th>\n",
       "      <td>0.028333</td>\n",
       "    </tr>\n",
       "    <tr>\n",
       "      <th>blueKills</th>\n",
       "      <td>0.123333</td>\n",
       "    </tr>\n",
       "    <tr>\n",
       "      <th>blueDeaths</th>\n",
       "      <td>0.115000</td>\n",
       "    </tr>\n",
       "    <tr>\n",
       "      <th>blueAssists</th>\n",
       "      <td>0.113667</td>\n",
       "    </tr>\n",
       "    <tr>\n",
       "      <th>blueEliteMonsters</th>\n",
       "      <td>0.046000</td>\n",
       "    </tr>\n",
       "    <tr>\n",
       "      <th>blueDragons</th>\n",
       "      <td>0.024000</td>\n",
       "    </tr>\n",
       "    <tr>\n",
       "      <th>blueTotalGold</th>\n",
       "      <td>0.158333</td>\n",
       "    </tr>\n",
       "    <tr>\n",
       "      <th>blueTotalExperience</th>\n",
       "      <td>0.096667</td>\n",
       "    </tr>\n",
       "  </tbody>\n",
       "</table>\n",
       "</div>"
      ],
      "text/plain": [
       "                     importance\n",
       "gameId                 0.294667\n",
       "blueFirstBlood         0.028333\n",
       "blueKills              0.123333\n",
       "blueDeaths             0.115000\n",
       "blueAssists            0.113667\n",
       "blueEliteMonsters      0.046000\n",
       "blueDragons            0.024000\n",
       "blueTotalGold          0.158333\n",
       "blueTotalExperience    0.096667"
      ]
     },
     "metadata": {},
     "output_type": "display_data"
    }
   ],
   "source": [
    "df_importance = pd.DataFrame(model.feature_importances_, index=feature_cols, columns=['importance'])\n",
    "df_importance['importance'] = df_importance['importance'] / sum(df_importance['importance'])\n",
    "display(df_importance)"
   ]
  },
  {
   "cell_type": "code",
   "execution_count": 10,
   "id": "58c24454-ee79-40b7-abee-2c114de81d14",
   "metadata": {},
   "outputs": [],
   "source": [
    "# 特徴量重要度を棒グラフでプロットする関数 \n",
    "def plot_feature_importance(df): \n",
    "    n_features = len(df)                              # 特徴量数(説明変数の個数) \n",
    "    df_plot = df.sort_values('importance')            # df_importanceをプロット用に特徴量重要度を昇順ソート \n",
    "    f_importance_plot = df_plot['importance'].values  # 特徴量重要度の取得 \n",
    "    plt.barh(range(n_features), f_importance_plot, align='center') \n",
    "    cols_plot = df_plot.index                         # 特徴量のカラム名を取得\n",
    "    plt.yticks(np.arange(n_features), cols_plot)      # x軸,y軸の値の設定\n",
    "    plt.xlabel('Feature importance')                  # x軸のタイトル\n",
    "    plt.ylabel('Feature')                             # y軸のタイトル"
   ]
  },
  {
   "cell_type": "code",
   "execution_count": 11,
   "id": "57ea1403-ba4f-4fd0-bebc-9c2bd246700d",
   "metadata": {},
   "outputs": [
    {
     "data": {
      "image/png": "[encoded data removed]",
      "text/plain": [
       "<Figure size 640x480 with 1 Axes>"
      ]
     },
     "metadata": {},
     "output_type": "display_data"
    }
   ],
   "source": [
    "plot_feature_importance(df_importance)"
   ]
  }
 ],
 "metadata": {
  "kernelspec": {
   "display_name": "Python 3 (ipykernel)",
   "language": "python",
   "name": "python3"
  },
  "language_info": {
   "codemirror_mode": {
    "name": "ipython",
    "version": 3
   },
   "file_extension": ".py",
   "mimetype": "text/x-python",
   "name": "python",
   "nbconvert_exporter": "python",
   "pygments_lexer": "ipython3",
   "version": "3.9.13"
  }
 },
 "nbformat": 4,
 "nbformat_minor": 5
}
